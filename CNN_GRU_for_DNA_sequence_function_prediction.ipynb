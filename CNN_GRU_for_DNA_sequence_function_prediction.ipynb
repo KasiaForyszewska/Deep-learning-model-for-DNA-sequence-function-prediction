{
 "cells": [
  {
   "cell_type": "markdown",
   "id": "09bd2d6c",
   "metadata": {},
   "source": [
    "<h2>Deep learning model for DNA sequence function prediction</h2>"
   ]
  },
  {
   "cell_type": "code",
   "execution_count": 39,
   "id": "c85b49dc",
   "metadata": {},
   "outputs": [],
   "source": [
    "import re\n",
    "import pandas as pd\n",
    "import numpy as np\n",
    "from collections import Counter\n",
    "import tensorflow as tf\n",
    "from tensorflow import keras\n",
    "from tensorflow.keras.utils import to_categorical\n",
    "from tensorflow.keras.callbacks import LearningRateScheduler\n",
    "from tensorflow.keras.models import Sequential\n",
    "from tensorflow.keras.layers import BatchNormalization\n",
    "from tensorflow.keras.layers import Conv1D, MaxPooling1D, GRU, Dense, Dropout\n",
    "from tensorflow.keras.optimizers import Adam\n",
    "from tensorflow.keras.metrics import Precision, Recall\n",
    "from sklearn.model_selection import train_test_split"
   ]
  },
  {
   "cell_type": "markdown",
   "id": "2a0020db",
   "metadata": {},
   "source": [
    "<h3>Data extraction, preprocessing and visualization</h3>"
   ]
  },
  {
   "cell_type": "code",
   "execution_count": 24,
   "id": "cbfd4024",
   "metadata": {},
   "outputs": [],
   "source": [
    "f = open(\"dna_70k_balanced.txt\", \"r\")\n",
    "t = f.read()\n",
    "f.close()\n",
    "\n",
    "full_sequences = re.findall(\"([ATGC]+)\\s+(\\d+)\", t)\n",
    "sequences = [s.replace(\"\\n\",\"\") for s, c in full_sequences]\n",
    "classes = [c for s, c in full_sequences]"
   ]
  },
  {
   "cell_type": "code",
   "execution_count": 37,
   "id": "11069649",
   "metadata": {},
   "outputs": [
    {
     "data": {
      "text/html": [
       "<style type=\"text/css\">\n",
       "#T_1d898 th {\n",
       "  text-align: center;\n",
       "}\n",
       "#T_1d898_row0_col0, #T_1d898_row0_col1, #T_1d898_row0_col2, #T_1d898_row1_col0, #T_1d898_row1_col1, #T_1d898_row1_col2, #T_1d898_row2_col0, #T_1d898_row2_col1, #T_1d898_row2_col2, #T_1d898_row3_col0, #T_1d898_row3_col1, #T_1d898_row3_col2, #T_1d898_row4_col0, #T_1d898_row4_col1, #T_1d898_row4_col2, #T_1d898_row5_col0, #T_1d898_row5_col1, #T_1d898_row5_col2, #T_1d898_row6_col0, #T_1d898_row6_col1, #T_1d898_row6_col2 {\n",
       "  text-align: left;\n",
       "  border-color: black;\n",
       "  border-style: solid;\n",
       "  border-width: 1px;\n",
       "}\n",
       "</style>\n",
       "<table id=\"T_1d898\">\n",
       "  <caption>Information about the dataset</caption>\n",
       "  <thead>\n",
       "    <tr>\n",
       "      <th class=\"blank level0\" >&nbsp;</th>\n",
       "      <th id=\"T_1d898_level0_col0\" class=\"col_heading level0 col0\" >Class Number</th>\n",
       "      <th id=\"T_1d898_level0_col1\" class=\"col_heading level0 col1\" >Class Name</th>\n",
       "      <th id=\"T_1d898_level0_col2\" class=\"col_heading level0 col2\" >Number of sequences</th>\n",
       "    </tr>\n",
       "  </thead>\n",
       "  <tbody>\n",
       "    <tr>\n",
       "      <th id=\"T_1d898_level0_row0\" class=\"row_heading level0 row0\" >0</th>\n",
       "      <td id=\"T_1d898_row0_col0\" class=\"data row0 col0\" >0</td>\n",
       "      <td id=\"T_1d898_row0_col1\" class=\"data row0 col1\" >G protein coupled receptors</td>\n",
       "      <td id=\"T_1d898_row0_col2\" class=\"data row0 col2\" >9920</td>\n",
       "    </tr>\n",
       "    <tr>\n",
       "      <th id=\"T_1d898_level0_row1\" class=\"row_heading level0 row1\" >1</th>\n",
       "      <td id=\"T_1d898_row1_col0\" class=\"data row1 col0\" >1</td>\n",
       "      <td id=\"T_1d898_row1_col1\" class=\"data row1 col1\" >Tyrosine kinase</td>\n",
       "      <td id=\"T_1d898_row1_col2\" class=\"data row1 col2\" >10000</td>\n",
       "    </tr>\n",
       "    <tr>\n",
       "      <th id=\"T_1d898_level0_row2\" class=\"row_heading level0 row2\" >2</th>\n",
       "      <td id=\"T_1d898_row2_col0\" class=\"data row2 col0\" >2</td>\n",
       "      <td id=\"T_1d898_row2_col1\" class=\"data row2 col1\" >Tyrosine phosphatase</td>\n",
       "      <td id=\"T_1d898_row2_col2\" class=\"data row2 col2\" >9920</td>\n",
       "    </tr>\n",
       "    <tr>\n",
       "      <th id=\"T_1d898_level0_row3\" class=\"row_heading level0 row3\" >3</th>\n",
       "      <td id=\"T_1d898_row3_col0\" class=\"data row3 col0\" >3</td>\n",
       "      <td id=\"T_1d898_row3_col1\" class=\"data row3 col1\" >Synthetase</td>\n",
       "      <td id=\"T_1d898_row3_col2\" class=\"data row3 col2\" >9800</td>\n",
       "    </tr>\n",
       "    <tr>\n",
       "      <th id=\"T_1d898_level0_row4\" class=\"row_heading level0 row4\" >4</th>\n",
       "      <td id=\"T_1d898_row4_col0\" class=\"data row4 col0\" >4</td>\n",
       "      <td id=\"T_1d898_row4_col1\" class=\"data row4 col1\" >Synthase</td>\n",
       "      <td id=\"T_1d898_row4_col2\" class=\"data row4 col2\" >9600</td>\n",
       "    </tr>\n",
       "    <tr>\n",
       "      <th id=\"T_1d898_level0_row5\" class=\"row_heading level0 row5\" >5</th>\n",
       "      <td id=\"T_1d898_row5_col0\" class=\"data row5 col0\" >5</td>\n",
       "      <td id=\"T_1d898_row5_col1\" class=\"data row5 col1\" >Ion channel</td>\n",
       "      <td id=\"T_1d898_row5_col2\" class=\"data row5 col2\" >11100</td>\n",
       "    </tr>\n",
       "    <tr>\n",
       "      <th id=\"T_1d898_level0_row6\" class=\"row_heading level0 row6\" >6</th>\n",
       "      <td id=\"T_1d898_row6_col0\" class=\"data row6 col0\" >6</td>\n",
       "      <td id=\"T_1d898_row6_col1\" class=\"data row6 col1\" >Transcription factor</td>\n",
       "      <td id=\"T_1d898_row6_col2\" class=\"data row6 col2\" >10100</td>\n",
       "    </tr>\n",
       "  </tbody>\n",
       "</table>\n"
      ],
      "text/plain": [
       "<pandas.io.formats.style.Styler at 0x1c531a879d0>"
      ]
     },
     "execution_count": 37,
     "metadata": {},
     "output_type": "execute_result"
    }
   ],
   "source": [
    "dataset = {\n",
    "    \"Class Number\": [0, 1, 2, 3, 4, 5, 6],\n",
    "    \"Class Name\": [\n",
    "        \"G protein coupled receptors\", \n",
    "        \"Tyrosine kinase\", \n",
    "        \"Tyrosine phosphatase\", \n",
    "        \"Synthetase\", \n",
    "        \"Synthase\", \n",
    "        \"Ion channel\", \n",
    "        \"Transcription factor\"\n",
    "    ],\n",
    "    \"Number of sequences\": [9920, 10000, 9920, 9800, 9600, 11100, 10100]\n",
    "}\n",
    "\n",
    "df = pd.DataFrame(dataset)\n",
    "\n",
    "styled_df = df.style.set_table_styles(\n",
    "    [{\n",
    "        'selector': 'th',\n",
    "        'props': [('text-align', 'center')]  \n",
    "    }],\n",
    "    overwrite=False\n",
    ").set_properties(**{\n",
    "    'text-align': 'left',  \n",
    "    'border-color': 'black',\n",
    "    'border-style' :'solid',\n",
    "    'border-width': '1px'\n",
    "}).set_caption(\"Information about the dataset\")  \n",
    "\n",
    "styled_df"
   ]
  },
  {
   "cell_type": "markdown",
   "id": "b46d4f88",
   "metadata": {},
   "source": [
    "<h3>Data encoding and padding</h3>"
   ]
  },
  {
   "cell_type": "code",
   "execution_count": 3,
   "id": "6dd5a218",
   "metadata": {},
   "outputs": [],
   "source": [
    "max_length = max(len(sequence) for sequence in sequences)"
   ]
  },
  {
   "cell_type": "code",
   "execution_count": 4,
   "id": "e86f82f4",
   "metadata": {},
   "outputs": [],
   "source": [
    "def encode_pad_sequences(dna_sequences, max_sequence_length):\n",
    "    \n",
    "    molar_mass_values = {'A': 135, 'C': 111, 'G': 151, 'T': 126} #approximate molar mass values\n",
    "    \n",
    "    encoded_sequences = np.zeros((len(dna_sequences), max_sequence_length), dtype=int)\n",
    "\n",
    "    for i, sequence in enumerate(dna_sequences):\n",
    "        #padding with 0 (without truncating longer sequences to avoid data loss)\n",
    "        encoded_sequence = [molar_mass_values.get(base, 0) for base in sequence]\n",
    "        encoded_sequences[i, :len(encoded_sequence)] = encoded_sequence \n",
    "\n",
    "    return encoded_sequences"
   ]
  },
  {
   "cell_type": "code",
   "execution_count": 5,
   "id": "442d3669",
   "metadata": {},
   "outputs": [],
   "source": [
    "sequences_encoded = encode_pad_sequences(sequences, max_length)"
   ]
  },
  {
   "cell_type": "code",
   "execution_count": 6,
   "id": "c5148c30",
   "metadata": {},
   "outputs": [
    {
     "data": {
      "text/plain": [
       "(70440, 7536)"
      ]
     },
     "execution_count": 6,
     "metadata": {},
     "output_type": "execute_result"
    }
   ],
   "source": [
    "sequences_encoded.shape"
   ]
  },
  {
   "cell_type": "code",
   "execution_count": 7,
   "id": "c823fa2e",
   "metadata": {},
   "outputs": [],
   "source": [
    "classes_np = np.array(classes, dtype='int')\n",
    "classes_encoded = to_categorical(classes_np, num_classes=7)"
   ]
  },
  {
   "cell_type": "code",
   "execution_count": 8,
   "id": "26d93b61",
   "metadata": {},
   "outputs": [
    {
     "data": {
      "text/plain": [
       "(70440, 7)"
      ]
     },
     "execution_count": 8,
     "metadata": {},
     "output_type": "execute_result"
    }
   ],
   "source": [
    "classes_encoded.shape"
   ]
  },
  {
   "cell_type": "markdown",
   "id": "7612ddb1",
   "metadata": {},
   "source": [
    "<h3>Data splitting for model training</h3>"
   ]
  },
  {
   "cell_type": "code",
   "execution_count": 9,
   "id": "59eb5c95",
   "metadata": {},
   "outputs": [],
   "source": [
    "X_train, X_temp, y_train, y_temp = train_test_split(sequences_encoded, classes_encoded, test_size=0.3, random_state=42)\n",
    "X_val, X_test, y_val, y_test = train_test_split(X_temp, y_temp, test_size=0.5, random_state=42)"
   ]
  },
  {
   "cell_type": "code",
   "execution_count": 10,
   "id": "57b708e4",
   "metadata": {},
   "outputs": [],
   "source": [
    "X_train_reshaped = X_train.reshape((X_train.shape[0], X_train.shape[1], 1))\n",
    "X_val_reshaped = X_val.reshape((X_val.shape[0], X_val.shape[1], 1))\n",
    "X_test_reshaped = X_test.reshape((X_test.shape[0], X_test.shape[1], 1))"
   ]
  },
  {
   "cell_type": "markdown",
   "id": "8e9a6269",
   "metadata": {},
   "source": [
    "<h3>Neural network model</h3>"
   ]
  },
  {
   "cell_type": "code",
   "execution_count": 13,
   "id": "f7c1db0d",
   "metadata": {},
   "outputs": [],
   "source": [
    "def scheduler(epoch, lr):\n",
    "    if epoch < 10:\n",
    "        return lr\n",
    "    else:\n",
    "        return lr * tf.math.exp(-0.1)"
   ]
  },
  {
   "cell_type": "code",
   "execution_count": 11,
   "id": "29a30795",
   "metadata": {},
   "outputs": [],
   "source": [
    "model = Sequential()\n",
    "\n",
    "# First Convolutional Layer\n",
    "model.add(Conv1D(filters=64, kernel_size=5, activation='relu', input_shape=(max_length, 1)))\n",
    "model.add(BatchNormalization())\n",
    "model.add(MaxPooling1D(pool_size=2))\n",
    "\n",
    "# Second Convolutional Layer\n",
    "model.add(Conv1D(filters=128, kernel_size=5, activation='relu'))\n",
    "model.add(BatchNormalization())\n",
    "model.add(MaxPooling1D(pool_size=2))\n",
    "\n",
    "# GRU Layer\n",
    "model.add(GRU(64, return_sequences=False))  \n",
    "model.add(Dropout(0.4))\n",
    "\n",
    "# Fully Connected Layers\n",
    "model.add(Dense(64, activation='relu'))\n",
    "model.add(Dropout(0.4))\n",
    "model.add(Dense(32, activation='relu'))\n",
    "model.add(Dropout(0.4))\n",
    "\n",
    "# Output Layer\n",
    "model.add(Dense(7, activation='softmax'))"
   ]
  },
  {
   "cell_type": "code",
   "execution_count": 12,
   "id": "031695d0",
   "metadata": {},
   "outputs": [],
   "source": [
    "optimizer = Adam(learning_rate=0.001)\n",
    "model.compile(loss='categorical_crossentropy', optimizer=optimizer, metrics=['accuracy', Precision(), Recall()])"
   ]
  },
  {
   "cell_type": "markdown",
   "id": "dbc8fc8b",
   "metadata": {},
   "source": [
    "<h3>Model training</h3>"
   ]
  },
  {
   "cell_type": "code",
   "execution_count": 14,
   "id": "3c5dd606",
   "metadata": {},
   "outputs": [],
   "source": [
    "lr_scheduler = LearningRateScheduler(scheduler)"
   ]
  },
  {
   "cell_type": "code",
   "execution_count": 15,
   "id": "ee26accc",
   "metadata": {},
   "outputs": [
    {
     "name": "stdout",
     "output_type": "stream",
     "text": [
      "Epoch 1/20\n",
      "771/771 [==============================] - 1923s 2s/step - loss: 1.9432 - accuracy: 0.1550 - precision: 0.8079 - recall: 0.0029 - val_loss: 1.9358 - val_accuracy: 0.1602 - val_precision: 1.0000 - val_recall: 0.0028 - lr: 0.0010\n",
      "Epoch 2/20\n",
      "771/771 [==============================] - 1921s 2s/step - loss: 1.9209 - accuracy: 0.1691 - precision: 0.9320 - recall: 0.0131 - val_loss: 1.9116 - val_accuracy: 0.1321 - val_precision: 0.5635 - val_recall: 0.0453 - lr: 0.0010\n",
      "Epoch 3/20\n",
      "771/771 [==============================] - 1925s 2s/step - loss: 1.9033 - accuracy: 0.1776 - precision: 0.7998 - recall: 0.0199 - val_loss: 1.9168 - val_accuracy: 0.1608 - val_precision: 1.0000 - val_recall: 0.0136 - lr: 0.0010\n",
      "Epoch 4/20\n",
      "771/771 [==============================] - 1922s 2s/step - loss: 1.8766 - accuracy: 0.1890 - precision: 0.8361 - recall: 0.0283 - val_loss: 2.3820 - val_accuracy: 0.1475 - val_precision: 0.4704 - val_recall: 0.0738 - lr: 0.0010\n",
      "Epoch 5/20\n",
      "771/771 [==============================] - 1925s 2s/step - loss: 1.7860 - accuracy: 0.2481 - precision: 0.8108 - recall: 0.0580 - val_loss: 1.8713 - val_accuracy: 0.2512 - val_precision: 0.5787 - val_recall: 0.1106 - lr: 0.0010\n",
      "Epoch 6/20\n",
      "771/771 [==============================] - 1928s 3s/step - loss: 1.5559 - accuracy: 0.3545 - precision: 0.8710 - recall: 0.1682 - val_loss: 1.8283 - val_accuracy: 0.2342 - val_precision: 0.5706 - val_recall: 0.0363 - lr: 0.0010\n",
      "Epoch 7/20\n",
      "771/771 [==============================] - 1930s 3s/step - loss: 1.3095 - accuracy: 0.4486 - precision: 0.9281 - recall: 0.2067 - val_loss: 1.1400 - val_accuracy: 0.4752 - val_precision: 0.9332 - val_recall: 0.1996 - lr: 0.0010\n",
      "Epoch 8/20\n",
      "771/771 [==============================] - 1927s 2s/step - loss: 1.0034 - accuracy: 0.5454 - precision: 0.8373 - recall: 0.2981 - val_loss: 1.1311 - val_accuracy: 0.5656 - val_precision: 0.7269 - val_recall: 0.4002 - lr: 0.0010\n",
      "Epoch 9/20\n",
      "771/771 [==============================] - 1928s 3s/step - loss: 0.9062 - accuracy: 0.6016 - precision: 0.8139 - recall: 0.4110 - val_loss: 0.7400 - val_accuracy: 0.6791 - val_precision: 0.8486 - val_recall: 0.5168 - lr: 0.0010\n",
      "Epoch 10/20\n",
      "771/771 [==============================] - 1927s 2s/step - loss: 0.7067 - accuracy: 0.7099 - precision: 0.8337 - recall: 0.5681 - val_loss: 0.5829 - val_accuracy: 0.7426 - val_precision: 0.8907 - val_recall: 0.5954 - lr: 0.0010\n",
      "Epoch 11/20\n",
      "771/771 [==============================] - 1930s 3s/step - loss: 0.5734 - accuracy: 0.7656 - precision: 0.8944 - recall: 0.6370 - val_loss: 0.5245 - val_accuracy: 0.7805 - val_precision: 0.9448 - val_recall: 0.6297 - lr: 9.0484e-04\n",
      "Epoch 12/20\n",
      "771/771 [==============================] - 1928s 3s/step - loss: 0.5005 - accuracy: 0.7882 - precision: 0.9206 - recall: 0.6649 - val_loss: 0.4946 - val_accuracy: 0.7898 - val_precision: 0.9407 - val_recall: 0.6445 - lr: 8.1873e-04\n",
      "Epoch 13/20\n",
      "771/771 [==============================] - 1929s 3s/step - loss: 0.4992 - accuracy: 0.7941 - precision: 0.9357 - recall: 0.6635 - val_loss: 0.4282 - val_accuracy: 0.8056 - val_precision: 0.9760 - val_recall: 0.6588 - lr: 7.4082e-04\n",
      "Epoch 14/20\n",
      "771/771 [==============================] - 1927s 2s/step - loss: 0.4992 - accuracy: 0.7940 - precision: 0.9460 - recall: 0.6564 - val_loss: 0.4361 - val_accuracy: 0.8069 - val_precision: 0.9761 - val_recall: 0.6622 - lr: 6.7032e-04\n",
      "Epoch 15/20\n",
      "771/771 [==============================] - 1928s 3s/step - loss: 0.4568 - accuracy: 0.8015 - precision: 0.9539 - recall: 0.6680 - val_loss: 0.4033 - val_accuracy: 0.8152 - val_precision: 0.9859 - val_recall: 0.6664 - lr: 6.0653e-04\n",
      "Epoch 16/20\n",
      "771/771 [==============================] - 1928s 3s/step - loss: 0.4345 - accuracy: 0.8085 - precision: 0.9642 - recall: 0.6714 - val_loss: 0.9575 - val_accuracy: 0.7458 - val_precision: 0.8610 - val_recall: 0.6026 - lr: 5.4881e-04\n",
      "Epoch 17/20\n",
      "771/771 [==============================] - 1927s 2s/step - loss: 0.4177 - accuracy: 0.8112 - precision: 0.9597 - recall: 0.6779 - val_loss: 0.3716 - val_accuracy: 0.8175 - val_precision: 0.9795 - val_recall: 0.6707 - lr: 4.9659e-04\n",
      "Epoch 18/20\n",
      "771/771 [==============================] - 1927s 2s/step - loss: 0.5008 - accuracy: 0.7928 - precision: 0.9472 - recall: 0.6544 - val_loss: 0.3879 - val_accuracy: 0.8168 - val_precision: 0.9727 - val_recall: 0.6700 - lr: 4.4933e-04\n",
      "Epoch 19/20\n",
      "771/771 [==============================] - 1928s 3s/step - loss: 0.4046 - accuracy: 0.8152 - precision: 0.9738 - recall: 0.6735 - val_loss: 0.3555 - val_accuracy: 0.8192 - val_precision: 0.9803 - val_recall: 0.6724 - lr: 4.0657e-04\n",
      "Epoch 20/20\n",
      "771/771 [==============================] - 1929s 3s/step - loss: 0.3844 - accuracy: 0.8194 - precision: 0.9694 - recall: 0.6807 - val_loss: 0.3975 - val_accuracy: 0.8243 - val_precision: 0.9818 - val_recall: 0.6783 - lr: 3.6788e-04\n"
     ]
    }
   ],
   "source": [
    "history = model.fit(X_train_reshaped, y_train, validation_data=(X_val_reshaped, y_val), epochs=20, batch_size=64, callbacks=[lr_scheduler])"
   ]
  },
  {
   "cell_type": "markdown",
   "id": "e4096309",
   "metadata": {},
   "source": [
    "<h3>Model evaluation</h3>"
   ]
  },
  {
   "cell_type": "code",
   "execution_count": 18,
   "id": "540f5c81",
   "metadata": {},
   "outputs": [
    {
     "name": "stdout",
     "output_type": "stream",
     "text": [
      "331/331 [==============================] - 200s 605ms/step - loss: 0.4042 - accuracy: 0.8233 - precision: 0.9819 - recall: 0.6794\n",
      "Test Loss: 0.40415069460868835, Test Accuracy: 0.8233011364936829, Test Precision: 0.9819450378417969, Test Recall: 0.6794434785842896\n"
     ]
    }
   ],
   "source": [
    "test_loss, test_accuracy, test_precision, test_recall = model.evaluate(X_test_reshaped, y_test)\n",
    "print(f\"Test Loss: {test_loss}, Test Accuracy: {test_accuracy}, Test Precision: {test_precision}, Test Recall: {test_recall}\")"
   ]
  }
 ],
 "metadata": {
  "kernelspec": {
   "display_name": "Python 3 (ipykernel)",
   "language": "python",
   "name": "python3"
  },
  "language_info": {
   "codemirror_mode": {
    "name": "ipython",
    "version": 3
   },
   "file_extension": ".py",
   "mimetype": "text/x-python",
   "name": "python",
   "nbconvert_exporter": "python",
   "pygments_lexer": "ipython3",
   "version": "3.10.9"
  }
 },
 "nbformat": 4,
 "nbformat_minor": 5
}
